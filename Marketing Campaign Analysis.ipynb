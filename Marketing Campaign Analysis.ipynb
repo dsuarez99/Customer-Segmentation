{
 "cells": [
  {
   "cell_type": "markdown",
   "id": "262289a3",
   "metadata": {},
   "source": [
    "# Within Coding Assignment"
   ]
  },
  {
   "cell_type": "markdown",
   "id": "c26153fa",
   "metadata": {},
   "source": [
    "This assignment will be developed using the Customer Personality Analysis dataset obtained from Kaggle (https://www.kaggle.com/datasets/imakash3011/customer-personality-analysis). This dataset contains information about customers, including attributes such as age, income, education, marital status, number of children, and their spending across various product categories. It also includes information on their response to past marketing campaigns.\n",
    "\n",
    "The objective of this project will be to perform clustering analysis to divide customers into segments and help marketing teams prioritize high-potential customers and optimize campaign targeting strategies, ultimately improving return on marketing investment.\n",
    "\n",
    "The dataset contains the following variables:\n",
    "\n",
    "People\n",
    "\n",
    "* ID: Customer's unique identifier\n",
    "* Year_Birth: Customer's birth year\n",
    "* Education: Customer's education level\n",
    "* Marital_Status: Customer's marital status\n",
    "* Income: Customer's yearly household income\n",
    "* Kidhome: Number of children in customer's household\n",
    "* Teenhome: Number of teenagers in customer's household\n",
    "* Dt_Customer: Date of customer's enrollment with the company\n",
    "* Recency: Number of days since customer's last purchase\n",
    "* Complain: 1 if the customer complained in the last 2 years, 0 otherwise\n",
    "\n",
    "Products\n",
    "\n",
    "* MntWines: Amount spent on wine in last 2 years\n",
    "* MntFruits: Amount spent on fruits in last 2 years\n",
    "* MntMeatProducts: Amount spent on meat in last 2 years\n",
    "* MntFishProducts: Amount spent on fish in last 2 years\n",
    "* MntSweetProducts: Amount spent on sweets in last 2 years\n",
    "* MntGoldProds: Amount spent on gold in last 2 years\n",
    "\n",
    "Promotion\n",
    "\n",
    "* NumDealsPurchases: Number of purchases made with a discount\n",
    "* AcceptedCmp1: 1 if customer accepted the offer in the 1st campaign, 0 otherwise\n",
    "* AcceptedCmp2: 1 if customer accepted the offer in the 2nd campaign, 0 otherwise\n",
    "* AcceptedCmp3: 1 if customer accepted the offer in the 3rd campaign, 0 otherwise\n",
    "* AcceptedCmp4: 1 if customer accepted the offer in the 4th campaign, 0 otherwise\n",
    "* AcceptedCmp5: 1 if customer accepted the offer in the 5th campaign, 0 otherwise\n",
    "* Response: 1 if customer accepted the offer in the last campaign, 0 otherwise\n",
    "\n",
    "Place\n",
    "\n",
    "* NumWebPurchases: Number of purchases made through the company’s website\n",
    "* NumCatalogPurchases: Number of purchases made using a catalogue\n",
    "* NumStorePurchases: Number of purchases made directly in stores\n",
    "* NumWebVisitsMonth: Number of visits to company’s website in the last month"
   ]
  },
  {
   "cell_type": "markdown",
   "id": "1a139fd9",
   "metadata": {},
   "source": [
    "## Data cleaning and Exploratory Data Analysis"
   ]
  },
  {
   "cell_type": "markdown",
   "id": "4053b62d",
   "metadata": {},
   "source": [
    "First, we will begin by importing all the required libraries for the project"
   ]
  },
  {
   "cell_type": "code",
   "execution_count": 31,
   "id": "debf59fb",
   "metadata": {},
   "outputs": [],
   "source": [
    "import pandas as pd\n",
    "import numpy as np\n",
    "import datetime as dt\n",
    "import matplotlib.pyplot as plt\n",
    "import seaborn as sns\n",
    "\n",
    "from sklearn.preprocessing import OneHotEncoder\n",
    "from sklearn.preprocessing import StandardScaler\n",
    "from sklearn.decomposition import PCA\n",
    "from sklearn.cluster import KMeans\n",
    "from sklearn.metrics import silhouette_score\n",
    "from sklearn.cluster import DBSCAN"
   ]
  },
  {
   "cell_type": "markdown",
   "id": "e195d340",
   "metadata": {},
   "source": [
    "Now, we will import the dataset that will be used for the task"
   ]
  },
  {
   "cell_type": "code",
   "execution_count": 32,
   "id": "5ef23d18",
   "metadata": {},
   "outputs": [],
   "source": [
    "data = pd.read_csv(\"./marketing_campaign.csv\", sep = \"\\t\")"
   ]
  },
  {
   "cell_type": "markdown",
   "id": "d3b1a1bd",
   "metadata": {},
   "source": [
    "After loading the dataset, we will begin exploring the dataset, transforming the data, and building some new features that will be used later in the model development section. First, lets review the datatypes for each of the columns in case it is required to transform any of them:"
   ]
  },
  {
   "cell_type": "code",
   "execution_count": 33,
   "id": "70a6c6b0",
   "metadata": {},
   "outputs": [
    {
     "name": "stdout",
     "output_type": "stream",
     "text": [
      "<class 'pandas.core.frame.DataFrame'>\n",
      "RangeIndex: 2240 entries, 0 to 2239\n",
      "Data columns (total 29 columns):\n",
      " #   Column               Non-Null Count  Dtype  \n",
      "---  ------               --------------  -----  \n",
      " 0   ID                   2240 non-null   int64  \n",
      " 1   Year_Birth           2240 non-null   int64  \n",
      " 2   Education            2240 non-null   object \n",
      " 3   Marital_Status       2240 non-null   object \n",
      " 4   Income               2216 non-null   float64\n",
      " 5   Kidhome              2240 non-null   int64  \n",
      " 6   Teenhome             2240 non-null   int64  \n",
      " 7   Dt_Customer          2240 non-null   object \n",
      " 8   Recency              2240 non-null   int64  \n",
      " 9   MntWines             2240 non-null   int64  \n",
      " 10  MntFruits            2240 non-null   int64  \n",
      " 11  MntMeatProducts      2240 non-null   int64  \n",
      " 12  MntFishProducts      2240 non-null   int64  \n",
      " 13  MntSweetProducts     2240 non-null   int64  \n",
      " 14  MntGoldProds         2240 non-null   int64  \n",
      " 15  NumDealsPurchases    2240 non-null   int64  \n",
      " 16  NumWebPurchases      2240 non-null   int64  \n",
      " 17  NumCatalogPurchases  2240 non-null   int64  \n",
      " 18  NumStorePurchases    2240 non-null   int64  \n",
      " 19  NumWebVisitsMonth    2240 non-null   int64  \n",
      " 20  AcceptedCmp3         2240 non-null   int64  \n",
      " 21  AcceptedCmp4         2240 non-null   int64  \n",
      " 22  AcceptedCmp5         2240 non-null   int64  \n",
      " 23  AcceptedCmp1         2240 non-null   int64  \n",
      " 24  AcceptedCmp2         2240 non-null   int64  \n",
      " 25  Complain             2240 non-null   int64  \n",
      " 26  Z_CostContact        2240 non-null   int64  \n",
      " 27  Z_Revenue            2240 non-null   int64  \n",
      " 28  Response             2240 non-null   int64  \n",
      "dtypes: float64(1), int64(25), object(3)\n",
      "memory usage: 507.6+ KB\n"
     ]
    }
   ],
   "source": [
    "data.info()"
   ]
  },
  {
   "cell_type": "markdown",
   "id": "0115d9c8",
   "metadata": {},
   "source": [
    "We can see that the variable \"Dt_Customer\" needs to be transformed to date time format. Also, the \"Income\" column contains some rows with Null values, these rows will be removed from the dataset."
   ]
  },
  {
   "cell_type": "code",
   "execution_count": 34,
   "id": "ed2fda99",
   "metadata": {},
   "outputs": [],
   "source": [
    "data[\"Dt_Customer\"] = pd.to_datetime(data[\"Dt_Customer\"], format=\"%d-%m-%Y\")\n",
    "\n",
    "data = data.dropna(subset = \"Income\")"
   ]
  },
  {
   "cell_type": "markdown",
   "id": "3d30b73e",
   "metadata": {},
   "source": [
    "This allows us to calculate the total time each person has been a client for the company. This is achieved with the following code:"
   ]
  },
  {
   "cell_type": "code",
   "execution_count": 35,
   "id": "c42ff4d2",
   "metadata": {},
   "outputs": [],
   "source": [
    "data[\"Customer_For\"] = (pd.to_datetime(\"today\") - data[\"Dt_Customer\"]).dt.days"
   ]
  },
  {
   "cell_type": "markdown",
   "id": "dd7fab9c",
   "metadata": {},
   "source": [
    "Now, we will explore the diferent variables of the dataset to have a clearer understanding of each of them"
   ]
  },
  {
   "cell_type": "code",
   "execution_count": 36,
   "id": "42ee7b24",
   "metadata": {},
   "outputs": [
    {
     "data": {
      "text/html": [
       "<div>\n",
       "<style scoped>\n",
       "    .dataframe tbody tr th:only-of-type {\n",
       "        vertical-align: middle;\n",
       "    }\n",
       "\n",
       "    .dataframe tbody tr th {\n",
       "        vertical-align: top;\n",
       "    }\n",
       "\n",
       "    .dataframe thead th {\n",
       "        text-align: right;\n",
       "    }\n",
       "</style>\n",
       "<table border=\"1\" class=\"dataframe\">\n",
       "  <thead>\n",
       "    <tr style=\"text-align: right;\">\n",
       "      <th></th>\n",
       "      <th>ID</th>\n",
       "      <th>Year_Birth</th>\n",
       "      <th>Income</th>\n",
       "      <th>Kidhome</th>\n",
       "      <th>Teenhome</th>\n",
       "      <th>Dt_Customer</th>\n",
       "      <th>Recency</th>\n",
       "      <th>MntWines</th>\n",
       "      <th>MntFruits</th>\n",
       "      <th>MntMeatProducts</th>\n",
       "      <th>MntFishProducts</th>\n",
       "      <th>MntSweetProducts</th>\n",
       "      <th>MntGoldProds</th>\n",
       "      <th>NumDealsPurchases</th>\n",
       "      <th>NumWebPurchases</th>\n",
       "      <th>NumCatalogPurchases</th>\n",
       "      <th>NumStorePurchases</th>\n",
       "      <th>NumWebVisitsMonth</th>\n",
       "      <th>AcceptedCmp3</th>\n",
       "      <th>AcceptedCmp4</th>\n",
       "      <th>AcceptedCmp5</th>\n",
       "      <th>AcceptedCmp1</th>\n",
       "      <th>AcceptedCmp2</th>\n",
       "      <th>Complain</th>\n",
       "      <th>Z_CostContact</th>\n",
       "      <th>Z_Revenue</th>\n",
       "      <th>Response</th>\n",
       "      <th>Customer_For</th>\n",
       "    </tr>\n",
       "  </thead>\n",
       "  <tbody>\n",
       "    <tr>\n",
       "      <th>count</th>\n",
       "      <td>2216.000000</td>\n",
       "      <td>2216.000000</td>\n",
       "      <td>2216.000000</td>\n",
       "      <td>2216.000000</td>\n",
       "      <td>2216.000000</td>\n",
       "      <td>2216</td>\n",
       "      <td>2216.000000</td>\n",
       "      <td>2216.000000</td>\n",
       "      <td>2216.000000</td>\n",
       "      <td>2216.000000</td>\n",
       "      <td>2216.000000</td>\n",
       "      <td>2216.000000</td>\n",
       "      <td>2216.000000</td>\n",
       "      <td>2216.000000</td>\n",
       "      <td>2216.000000</td>\n",
       "      <td>2216.000000</td>\n",
       "      <td>2216.000000</td>\n",
       "      <td>2216.000000</td>\n",
       "      <td>2216.000000</td>\n",
       "      <td>2216.000000</td>\n",
       "      <td>2216.000000</td>\n",
       "      <td>2216.000000</td>\n",
       "      <td>2216.000000</td>\n",
       "      <td>2216.000000</td>\n",
       "      <td>2216.0</td>\n",
       "      <td>2216.0</td>\n",
       "      <td>2216.000000</td>\n",
       "      <td>2216.000000</td>\n",
       "    </tr>\n",
       "    <tr>\n",
       "      <th>mean</th>\n",
       "      <td>5588.353339</td>\n",
       "      <td>1968.820397</td>\n",
       "      <td>52247.251354</td>\n",
       "      <td>0.441787</td>\n",
       "      <td>0.505415</td>\n",
       "      <td>2013-07-10 11:29:27.509025280</td>\n",
       "      <td>49.012635</td>\n",
       "      <td>305.091606</td>\n",
       "      <td>26.356047</td>\n",
       "      <td>166.995939</td>\n",
       "      <td>37.637635</td>\n",
       "      <td>27.028881</td>\n",
       "      <td>43.965253</td>\n",
       "      <td>2.323556</td>\n",
       "      <td>4.085289</td>\n",
       "      <td>2.671029</td>\n",
       "      <td>5.800993</td>\n",
       "      <td>5.319043</td>\n",
       "      <td>0.073556</td>\n",
       "      <td>0.074007</td>\n",
       "      <td>0.073105</td>\n",
       "      <td>0.064079</td>\n",
       "      <td>0.013538</td>\n",
       "      <td>0.009477</td>\n",
       "      <td>3.0</td>\n",
       "      <td>11.0</td>\n",
       "      <td>0.150271</td>\n",
       "      <td>4379.521209</td>\n",
       "    </tr>\n",
       "    <tr>\n",
       "      <th>min</th>\n",
       "      <td>0.000000</td>\n",
       "      <td>1893.000000</td>\n",
       "      <td>1730.000000</td>\n",
       "      <td>0.000000</td>\n",
       "      <td>0.000000</td>\n",
       "      <td>2012-07-30 00:00:00</td>\n",
       "      <td>0.000000</td>\n",
       "      <td>0.000000</td>\n",
       "      <td>0.000000</td>\n",
       "      <td>0.000000</td>\n",
       "      <td>0.000000</td>\n",
       "      <td>0.000000</td>\n",
       "      <td>0.000000</td>\n",
       "      <td>0.000000</td>\n",
       "      <td>0.000000</td>\n",
       "      <td>0.000000</td>\n",
       "      <td>0.000000</td>\n",
       "      <td>0.000000</td>\n",
       "      <td>0.000000</td>\n",
       "      <td>0.000000</td>\n",
       "      <td>0.000000</td>\n",
       "      <td>0.000000</td>\n",
       "      <td>0.000000</td>\n",
       "      <td>0.000000</td>\n",
       "      <td>3.0</td>\n",
       "      <td>11.0</td>\n",
       "      <td>0.000000</td>\n",
       "      <td>4026.000000</td>\n",
       "    </tr>\n",
       "    <tr>\n",
       "      <th>25%</th>\n",
       "      <td>2814.750000</td>\n",
       "      <td>1959.000000</td>\n",
       "      <td>35303.000000</td>\n",
       "      <td>0.000000</td>\n",
       "      <td>0.000000</td>\n",
       "      <td>2013-01-16 00:00:00</td>\n",
       "      <td>24.000000</td>\n",
       "      <td>24.000000</td>\n",
       "      <td>2.000000</td>\n",
       "      <td>16.000000</td>\n",
       "      <td>3.000000</td>\n",
       "      <td>1.000000</td>\n",
       "      <td>9.000000</td>\n",
       "      <td>1.000000</td>\n",
       "      <td>2.000000</td>\n",
       "      <td>0.000000</td>\n",
       "      <td>3.000000</td>\n",
       "      <td>3.000000</td>\n",
       "      <td>0.000000</td>\n",
       "      <td>0.000000</td>\n",
       "      <td>0.000000</td>\n",
       "      <td>0.000000</td>\n",
       "      <td>0.000000</td>\n",
       "      <td>0.000000</td>\n",
       "      <td>3.0</td>\n",
       "      <td>11.0</td>\n",
       "      <td>0.000000</td>\n",
       "      <td>4206.000000</td>\n",
       "    </tr>\n",
       "    <tr>\n",
       "      <th>50%</th>\n",
       "      <td>5458.500000</td>\n",
       "      <td>1970.000000</td>\n",
       "      <td>51381.500000</td>\n",
       "      <td>0.000000</td>\n",
       "      <td>0.000000</td>\n",
       "      <td>2013-07-08 12:00:00</td>\n",
       "      <td>49.000000</td>\n",
       "      <td>174.500000</td>\n",
       "      <td>8.000000</td>\n",
       "      <td>68.000000</td>\n",
       "      <td>12.000000</td>\n",
       "      <td>8.000000</td>\n",
       "      <td>24.500000</td>\n",
       "      <td>2.000000</td>\n",
       "      <td>4.000000</td>\n",
       "      <td>2.000000</td>\n",
       "      <td>5.000000</td>\n",
       "      <td>6.000000</td>\n",
       "      <td>0.000000</td>\n",
       "      <td>0.000000</td>\n",
       "      <td>0.000000</td>\n",
       "      <td>0.000000</td>\n",
       "      <td>0.000000</td>\n",
       "      <td>0.000000</td>\n",
       "      <td>3.0</td>\n",
       "      <td>11.0</td>\n",
       "      <td>0.000000</td>\n",
       "      <td>4381.500000</td>\n",
       "    </tr>\n",
       "    <tr>\n",
       "      <th>75%</th>\n",
       "      <td>8421.750000</td>\n",
       "      <td>1977.000000</td>\n",
       "      <td>68522.000000</td>\n",
       "      <td>1.000000</td>\n",
       "      <td>1.000000</td>\n",
       "      <td>2013-12-31 00:00:00</td>\n",
       "      <td>74.000000</td>\n",
       "      <td>505.000000</td>\n",
       "      <td>33.000000</td>\n",
       "      <td>232.250000</td>\n",
       "      <td>50.000000</td>\n",
       "      <td>33.000000</td>\n",
       "      <td>56.000000</td>\n",
       "      <td>3.000000</td>\n",
       "      <td>6.000000</td>\n",
       "      <td>4.000000</td>\n",
       "      <td>8.000000</td>\n",
       "      <td>7.000000</td>\n",
       "      <td>0.000000</td>\n",
       "      <td>0.000000</td>\n",
       "      <td>0.000000</td>\n",
       "      <td>0.000000</td>\n",
       "      <td>0.000000</td>\n",
       "      <td>0.000000</td>\n",
       "      <td>3.0</td>\n",
       "      <td>11.0</td>\n",
       "      <td>0.000000</td>\n",
       "      <td>4555.000000</td>\n",
       "    </tr>\n",
       "    <tr>\n",
       "      <th>max</th>\n",
       "      <td>11191.000000</td>\n",
       "      <td>1996.000000</td>\n",
       "      <td>666666.000000</td>\n",
       "      <td>2.000000</td>\n",
       "      <td>2.000000</td>\n",
       "      <td>2014-06-29 00:00:00</td>\n",
       "      <td>99.000000</td>\n",
       "      <td>1493.000000</td>\n",
       "      <td>199.000000</td>\n",
       "      <td>1725.000000</td>\n",
       "      <td>259.000000</td>\n",
       "      <td>262.000000</td>\n",
       "      <td>321.000000</td>\n",
       "      <td>15.000000</td>\n",
       "      <td>27.000000</td>\n",
       "      <td>28.000000</td>\n",
       "      <td>13.000000</td>\n",
       "      <td>20.000000</td>\n",
       "      <td>1.000000</td>\n",
       "      <td>1.000000</td>\n",
       "      <td>1.000000</td>\n",
       "      <td>1.000000</td>\n",
       "      <td>1.000000</td>\n",
       "      <td>1.000000</td>\n",
       "      <td>3.0</td>\n",
       "      <td>11.0</td>\n",
       "      <td>1.000000</td>\n",
       "      <td>4725.000000</td>\n",
       "    </tr>\n",
       "    <tr>\n",
       "      <th>std</th>\n",
       "      <td>3249.376275</td>\n",
       "      <td>11.985554</td>\n",
       "      <td>25173.076661</td>\n",
       "      <td>0.536896</td>\n",
       "      <td>0.544181</td>\n",
       "      <td>NaN</td>\n",
       "      <td>28.948352</td>\n",
       "      <td>337.327920</td>\n",
       "      <td>39.793917</td>\n",
       "      <td>224.283273</td>\n",
       "      <td>54.752082</td>\n",
       "      <td>41.072046</td>\n",
       "      <td>51.815414</td>\n",
       "      <td>1.923716</td>\n",
       "      <td>2.740951</td>\n",
       "      <td>2.926734</td>\n",
       "      <td>3.250785</td>\n",
       "      <td>2.425359</td>\n",
       "      <td>0.261106</td>\n",
       "      <td>0.261842</td>\n",
       "      <td>0.260367</td>\n",
       "      <td>0.244950</td>\n",
       "      <td>0.115588</td>\n",
       "      <td>0.096907</td>\n",
       "      <td>0.0</td>\n",
       "      <td>0.0</td>\n",
       "      <td>0.357417</td>\n",
       "      <td>202.434667</td>\n",
       "    </tr>\n",
       "  </tbody>\n",
       "</table>\n",
       "</div>"
      ],
      "text/plain": [
       "                 ID   Year_Birth         Income      Kidhome     Teenhome  \\\n",
       "count   2216.000000  2216.000000    2216.000000  2216.000000  2216.000000   \n",
       "mean    5588.353339  1968.820397   52247.251354     0.441787     0.505415   \n",
       "min        0.000000  1893.000000    1730.000000     0.000000     0.000000   \n",
       "25%     2814.750000  1959.000000   35303.000000     0.000000     0.000000   \n",
       "50%     5458.500000  1970.000000   51381.500000     0.000000     0.000000   \n",
       "75%     8421.750000  1977.000000   68522.000000     1.000000     1.000000   \n",
       "max    11191.000000  1996.000000  666666.000000     2.000000     2.000000   \n",
       "std     3249.376275    11.985554   25173.076661     0.536896     0.544181   \n",
       "\n",
       "                         Dt_Customer      Recency     MntWines    MntFruits  \\\n",
       "count                           2216  2216.000000  2216.000000  2216.000000   \n",
       "mean   2013-07-10 11:29:27.509025280    49.012635   305.091606    26.356047   \n",
       "min              2012-07-30 00:00:00     0.000000     0.000000     0.000000   \n",
       "25%              2013-01-16 00:00:00    24.000000    24.000000     2.000000   \n",
       "50%              2013-07-08 12:00:00    49.000000   174.500000     8.000000   \n",
       "75%              2013-12-31 00:00:00    74.000000   505.000000    33.000000   \n",
       "max              2014-06-29 00:00:00    99.000000  1493.000000   199.000000   \n",
       "std                              NaN    28.948352   337.327920    39.793917   \n",
       "\n",
       "       MntMeatProducts  MntFishProducts  MntSweetProducts  MntGoldProds  \\\n",
       "count      2216.000000      2216.000000       2216.000000   2216.000000   \n",
       "mean        166.995939        37.637635         27.028881     43.965253   \n",
       "min           0.000000         0.000000          0.000000      0.000000   \n",
       "25%          16.000000         3.000000          1.000000      9.000000   \n",
       "50%          68.000000        12.000000          8.000000     24.500000   \n",
       "75%         232.250000        50.000000         33.000000     56.000000   \n",
       "max        1725.000000       259.000000        262.000000    321.000000   \n",
       "std         224.283273        54.752082         41.072046     51.815414   \n",
       "\n",
       "       NumDealsPurchases  NumWebPurchases  NumCatalogPurchases  \\\n",
       "count        2216.000000      2216.000000          2216.000000   \n",
       "mean            2.323556         4.085289             2.671029   \n",
       "min             0.000000         0.000000             0.000000   \n",
       "25%             1.000000         2.000000             0.000000   \n",
       "50%             2.000000         4.000000             2.000000   \n",
       "75%             3.000000         6.000000             4.000000   \n",
       "max            15.000000        27.000000            28.000000   \n",
       "std             1.923716         2.740951             2.926734   \n",
       "\n",
       "       NumStorePurchases  NumWebVisitsMonth  AcceptedCmp3  AcceptedCmp4  \\\n",
       "count        2216.000000        2216.000000   2216.000000   2216.000000   \n",
       "mean            5.800993           5.319043      0.073556      0.074007   \n",
       "min             0.000000           0.000000      0.000000      0.000000   \n",
       "25%             3.000000           3.000000      0.000000      0.000000   \n",
       "50%             5.000000           6.000000      0.000000      0.000000   \n",
       "75%             8.000000           7.000000      0.000000      0.000000   \n",
       "max            13.000000          20.000000      1.000000      1.000000   \n",
       "std             3.250785           2.425359      0.261106      0.261842   \n",
       "\n",
       "       AcceptedCmp5  AcceptedCmp1  AcceptedCmp2     Complain  Z_CostContact  \\\n",
       "count   2216.000000   2216.000000   2216.000000  2216.000000         2216.0   \n",
       "mean       0.073105      0.064079      0.013538     0.009477            3.0   \n",
       "min        0.000000      0.000000      0.000000     0.000000            3.0   \n",
       "25%        0.000000      0.000000      0.000000     0.000000            3.0   \n",
       "50%        0.000000      0.000000      0.000000     0.000000            3.0   \n",
       "75%        0.000000      0.000000      0.000000     0.000000            3.0   \n",
       "max        1.000000      1.000000      1.000000     1.000000            3.0   \n",
       "std        0.260367      0.244950      0.115588     0.096907            0.0   \n",
       "\n",
       "       Z_Revenue     Response  Customer_For  \n",
       "count     2216.0  2216.000000   2216.000000  \n",
       "mean        11.0     0.150271   4379.521209  \n",
       "min         11.0     0.000000   4026.000000  \n",
       "25%         11.0     0.000000   4206.000000  \n",
       "50%         11.0     0.000000   4381.500000  \n",
       "75%         11.0     0.000000   4555.000000  \n",
       "max         11.0     1.000000   4725.000000  \n",
       "std          0.0     0.357417    202.434667  "
      ]
     },
     "execution_count": 36,
     "metadata": {},
     "output_type": "execute_result"
    }
   ],
   "source": [
    "data.describe()"
   ]
  },
  {
   "cell_type": "markdown",
   "id": "1353032f",
   "metadata": {},
   "source": [
    "Based on the results, we can see that the variable \"Income\" is one of the variables with the biggest range. Also, that there are customers that seem to have more than 100 years (min year_birth less than 1925). We will make a deepdive into these findings, lets begin by creating the \"Age column\" and plotting the behavior of this new variable along with the \"Income\" variable."
   ]
  },
  {
   "cell_type": "code",
   "execution_count": 37,
   "id": "7749dd28",
   "metadata": {},
   "outputs": [],
   "source": [
    "data[\"Customer_Age\"] = dt.datetime.now().year - data[\"Year_Birth\"]"
   ]
  },
  {
   "cell_type": "code",
   "execution_count": 38,
   "id": "8c09c56f",
   "metadata": {},
   "outputs": [
    {
     "data": {
      "image/png": "[encoded data removed]",
      "text/plain": [
       "<Figure size 1400x500 with 2 Axes>"
      ]
     },
     "metadata": {},
     "output_type": "display_data"
    }
   ],
   "source": [
    "# Create subplots\n",
    "fig, axes = plt.subplots(1, 2, figsize=(14, 5))\n",
    "\n",
    "# Histogram\n",
    "sns.histplot(data[\"Customer_Age\"], bins=30, kde=True, color=\"skyblue\", ax=axes[0])\n",
    "axes[0].set_title(\"Histogram of Customer Age\")\n",
    "axes[0].set_xlabel(\"Customer Age\")\n",
    "axes[0].set_ylabel(\"Frequency\")\n",
    "\n",
    "# Boxplot\n",
    "sns.boxplot(x=data[\"Customer_Age\"], color=\"lightgreen\", ax=axes[1])\n",
    "axes[1].set_title(\"Boxplot of Customer Age\")\n",
    "axes[1].set_xlabel(\"Customer Age\")\n",
    "\n",
    "plt.tight_layout()\n",
    "plt.show()"
   ]
  },
  {
   "cell_type": "code",
   "execution_count": 39,
   "id": "3ba14024",
   "metadata": {},
   "outputs": [
    {
     "data": {
      "image/png": "[encoded data removed]",
      "text/plain": [
       "<Figure size 1400x500 with 2 Axes>"
      ]
     },
     "metadata": {},
     "output_type": "display_data"
    }
   ],
   "source": [
    "# Create subplots\n",
    "fig, axes = plt.subplots(1, 2, figsize=(14, 5))\n",
    "\n",
    "# Histogram\n",
    "sns.histplot(data[\"Income\"], bins=30, kde=True, color=\"skyblue\", ax=axes[0])\n",
    "axes[0].set_title(\"Histogram of Income\")\n",
    "axes[0].set_xlabel(\"Income\")\n",
    "axes[0].set_ylabel(\"Frequency\")\n",
    "\n",
    "# Boxplot\n",
    "sns.boxplot(x=data[\"Income\"], color=\"lightgreen\", ax=axes[1])\n",
    "axes[1].set_title(\"Boxplot of Income\")\n",
    "axes[1].set_xlabel(\"Income\")\n",
    "\n",
    "plt.tight_layout()\n",
    "plt.show()\n"
   ]
  },
  {
   "cell_type": "markdown",
   "id": "9bad9572",
   "metadata": {},
   "source": [
    "These graphs show us that, as we initially guessed, there are outliers for these two variables. We will remove from the dataset customers 100 years or older and also customers with an income higher than $600000. By doing this we expect that to remove these outliers that could mislead our customer segmentation algorithm."
   ]
  },
  {
   "cell_type": "code",
   "execution_count": 40,
   "id": "f790db8e",
   "metadata": {},
   "outputs": [],
   "source": [
    "data = data[data[\"Customer_Age\"] < 100]\n",
    "data = data[data[\"Income\"] < 600000]"
   ]
  },
  {
   "cell_type": "markdown",
   "id": "2a27a949",
   "metadata": {},
   "source": [
    "Additionaly, we will create one single variable corresponding to the total number of children the customer has, another variable for the total amount in purchases the client has made, a variable for the total number of purchases made (regardless of the channel where it was made), and finally a variable that explains the total number of offers the client has accepted regardless of the campaign number."
   ]
  },
  {
   "cell_type": "code",
   "execution_count": 41,
   "id": "9f95b223",
   "metadata": {},
   "outputs": [],
   "source": [
    "data[\"Kids\"] = data[\"Kidhome\"] + data[\"Teenhome\"]\n",
    "data[\"Total_Purchased\"] = data[\"MntWines\"] + data[\"MntFruits\"] + data[\"MntMeatProducts\"] + data[\"MntFishProducts\"] + data[\"MntSweetProducts\"] + data[\"MntGoldProds\"]\n",
    "data[\"Num_Purchases\"] = data[\"NumDealsPurchases\"] + data[\"NumWebPurchases\"] + data[\"NumCatalogPurchases\"] + data[\"NumStorePurchases\"] \n",
    "data[\"Campaigns_Accepted\"] = data[\"AcceptedCmp1\"] + data[\"AcceptedCmp2\"] + data[\"AcceptedCmp2\"] + data[\"AcceptedCmp3\"] + data[\"AcceptedCmp4\"] + data[\"AcceptedCmp5\"]"
   ]
  },
  {
   "cell_type": "markdown",
   "id": "cb2a2c52",
   "metadata": {},
   "source": [
    "Moving forward with the analysis, we will analyse the categorical variables available in the dataset."
   ]
  },
  {
   "cell_type": "code",
   "execution_count": 42,
   "id": "74b7232b",
   "metadata": {},
   "outputs": [
    {
     "data": {
      "text/plain": [
       "Education\n",
       "Graduation    1115\n",
       "PhD            480\n",
       "Master         365\n",
       "2n Cycle       198\n",
       "Basic           54\n",
       "Name: count, dtype: int64"
      ]
     },
     "execution_count": 42,
     "metadata": {},
     "output_type": "execute_result"
    }
   ],
   "source": [
    "data[\"Education\"].value_counts()"
   ]
  },
  {
   "cell_type": "code",
   "execution_count": 43,
   "id": "9b16c7f1",
   "metadata": {},
   "outputs": [
    {
     "data": {
      "text/plain": [
       "Marital_Status\n",
       "Married     857\n",
       "Together    571\n",
       "Single      470\n",
       "Divorced    231\n",
       "Widow        76\n",
       "Alone         3\n",
       "Absurd        2\n",
       "YOLO          2\n",
       "Name: count, dtype: int64"
      ]
     },
     "execution_count": 43,
     "metadata": {},
     "output_type": "execute_result"
    }
   ],
   "source": [
    "data[\"Marital_Status\"].value_counts()"
   ]
  },
  {
   "cell_type": "markdown",
   "id": "2817a9e5",
   "metadata": {},
   "source": [
    "We can see that there are some opportunities to cleanup these variables. First, for the education variable we can see that there are multiple categories referring to the same level of education, for example, 2n Cycle and Master, or Graduation and Basic. Secondly, for the Marital Status variable we have a similar situation where Alone and Single, or Together and Married mean the same marital status. We will also remove from the dataset the rows that answered YOLO and Absurd in the marital status question. The following code groups the variables based on this finding"
   ]
  },
  {
   "cell_type": "code",
   "execution_count": 44,
   "id": "443483c7",
   "metadata": {},
   "outputs": [],
   "source": [
    "data[\"Education\"] = data[\"Education\"].replace([\"PhD\", \"2n Cycle\", \"Graduation\", \"Master\"],\"Post Graduate\")\n",
    "\n",
    "data[\"Marital_Status\"] = data[\"Marital_Status\"].replace([\"Married\", \"Together\"], \"In a Relationship\")\n",
    "data[\"Marital_Status\"] = data[\"Marital_Status\"].replace([\"Divorced\", \"Widow\", \"Alone\"], \"Single\")\n",
    "data = data[~data[\"Marital_Status\"].isin({\"YOLO\", \"Absurd\"})]\n"
   ]
  },
  {
   "cell_type": "markdown",
   "id": "1a7a1c32",
   "metadata": {},
   "source": [
    "After cleaning the marital status column, we can also determine the total number of people living in each customer's household"
   ]
  },
  {
   "cell_type": "code",
   "execution_count": 45,
   "id": "9cede531",
   "metadata": {},
   "outputs": [],
   "source": [
    "data[\"Household_Size\"] = np.where(data[\"Marital_Status\"] == \"Single\", 1, 0) + data[\"Kids\"]"
   ]
  },
  {
   "cell_type": "markdown",
   "id": "a6c70678",
   "metadata": {},
   "source": [
    "Now we can drop some variables that will not be used during the analysis"
   ]
  },
  {
   "cell_type": "code",
   "execution_count": 46,
   "id": "78c427a4",
   "metadata": {},
   "outputs": [],
   "source": [
    "data.drop(columns = [\"ID\", \"Year_Birth\", \"Dt_Customer\", \"MntWines\", \"MntFruits\", \"MntMeatProducts\", \"MntFishProducts\", \"MntSweetProducts\",\"MntGoldProds\", \"NumDealsPurchases\", \"NumWebPurchases\", \"NumCatalogPurchases\", \"NumStorePurchases\", \"AcceptedCmp1\", \"AcceptedCmp2\", \"AcceptedCmp3\", \"AcceptedCmp4\", \"AcceptedCmp5\", \"Complain\", \"Z_CostContact\", \"Z_Revenue\", \"Response\"], inplace = True)"
   ]
  },
  {
   "cell_type": "markdown",
   "id": "6de1253e",
   "metadata": {},
   "source": [
    "This is the dataset after the cleanup process and feature engineering process that we made:"
   ]
  },
  {
   "cell_type": "code",
   "execution_count": 47,
   "id": "158f2cb5",
   "metadata": {},
   "outputs": [
    {
     "data": {
      "text/html": [
       "<div>\n",
       "<style scoped>\n",
       "    .dataframe tbody tr th:only-of-type {\n",
       "        vertical-align: middle;\n",
       "    }\n",
       "\n",
       "    .dataframe tbody tr th {\n",
       "        vertical-align: top;\n",
       "    }\n",
       "\n",
       "    .dataframe thead th {\n",
       "        text-align: right;\n",
       "    }\n",
       "</style>\n",
       "<table border=\"1\" class=\"dataframe\">\n",
       "  <thead>\n",
       "    <tr style=\"text-align: right;\">\n",
       "      <th></th>\n",
       "      <th>Education</th>\n",
       "      <th>Marital_Status</th>\n",
       "      <th>Income</th>\n",
       "      <th>Kidhome</th>\n",
       "      <th>Teenhome</th>\n",
       "      <th>Recency</th>\n",
       "      <th>NumWebVisitsMonth</th>\n",
       "      <th>Customer_For</th>\n",
       "      <th>Customer_Age</th>\n",
       "      <th>Kids</th>\n",
       "      <th>Total_Purchased</th>\n",
       "      <th>Num_Purchases</th>\n",
       "      <th>Campaigns_Accepted</th>\n",
       "      <th>Household_Size</th>\n",
       "    </tr>\n",
       "  </thead>\n",
       "  <tbody>\n",
       "    <tr>\n",
       "      <th>0</th>\n",
       "      <td>Post Graduate</td>\n",
       "      <td>Single</td>\n",
       "      <td>58138.0</td>\n",
       "      <td>0</td>\n",
       "      <td>0</td>\n",
       "      <td>58</td>\n",
       "      <td>7</td>\n",
       "      <td>4689</td>\n",
       "      <td>68</td>\n",
       "      <td>0</td>\n",
       "      <td>1617</td>\n",
       "      <td>25</td>\n",
       "      <td>0</td>\n",
       "      <td>1</td>\n",
       "    </tr>\n",
       "    <tr>\n",
       "      <th>1</th>\n",
       "      <td>Post Graduate</td>\n",
       "      <td>Single</td>\n",
       "      <td>46344.0</td>\n",
       "      <td>1</td>\n",
       "      <td>1</td>\n",
       "      <td>38</td>\n",
       "      <td>5</td>\n",
       "      <td>4139</td>\n",
       "      <td>71</td>\n",
       "      <td>2</td>\n",
       "      <td>27</td>\n",
       "      <td>6</td>\n",
       "      <td>0</td>\n",
       "      <td>3</td>\n",
       "    </tr>\n",
       "    <tr>\n",
       "      <th>2</th>\n",
       "      <td>Post Graduate</td>\n",
       "      <td>In a Relationship</td>\n",
       "      <td>71613.0</td>\n",
       "      <td>0</td>\n",
       "      <td>0</td>\n",
       "      <td>26</td>\n",
       "      <td>4</td>\n",
       "      <td>4338</td>\n",
       "      <td>60</td>\n",
       "      <td>0</td>\n",
       "      <td>776</td>\n",
       "      <td>21</td>\n",
       "      <td>0</td>\n",
       "      <td>0</td>\n",
       "    </tr>\n",
       "    <tr>\n",
       "      <th>3</th>\n",
       "      <td>Post Graduate</td>\n",
       "      <td>In a Relationship</td>\n",
       "      <td>26646.0</td>\n",
       "      <td>1</td>\n",
       "      <td>0</td>\n",
       "      <td>26</td>\n",
       "      <td>6</td>\n",
       "      <td>4165</td>\n",
       "      <td>41</td>\n",
       "      <td>1</td>\n",
       "      <td>53</td>\n",
       "      <td>8</td>\n",
       "      <td>0</td>\n",
       "      <td>1</td>\n",
       "    </tr>\n",
       "    <tr>\n",
       "      <th>4</th>\n",
       "      <td>Post Graduate</td>\n",
       "      <td>In a Relationship</td>\n",
       "      <td>58293.0</td>\n",
       "      <td>1</td>\n",
       "      <td>0</td>\n",
       "      <td>94</td>\n",
       "      <td>5</td>\n",
       "      <td>4187</td>\n",
       "      <td>44</td>\n",
       "      <td>1</td>\n",
       "      <td>422</td>\n",
       "      <td>19</td>\n",
       "      <td>0</td>\n",
       "      <td>1</td>\n",
       "    </tr>\n",
       "  </tbody>\n",
       "</table>\n",
       "</div>"
      ],
      "text/plain": [
       "       Education     Marital_Status   Income  Kidhome  Teenhome  Recency  \\\n",
       "0  Post Graduate             Single  58138.0        0         0       58   \n",
       "1  Post Graduate             Single  46344.0        1         1       38   \n",
       "2  Post Graduate  In a Relationship  71613.0        0         0       26   \n",
       "3  Post Graduate  In a Relationship  26646.0        1         0       26   \n",
       "4  Post Graduate  In a Relationship  58293.0        1         0       94   \n",
       "\n",
       "   NumWebVisitsMonth  Customer_For  Customer_Age  Kids  Total_Purchased  \\\n",
       "0                  7          4689            68     0             1617   \n",
       "1                  5          4139            71     2               27   \n",
       "2                  4          4338            60     0              776   \n",
       "3                  6          4165            41     1               53   \n",
       "4                  5          4187            44     1              422   \n",
       "\n",
       "   Num_Purchases  Campaigns_Accepted  Household_Size  \n",
       "0             25                   0               1  \n",
       "1              6                   0               3  \n",
       "2             21                   0               0  \n",
       "3              8                   0               1  \n",
       "4             19                   0               1  "
      ]
     },
     "execution_count": 47,
     "metadata": {},
     "output_type": "execute_result"
    }
   ],
   "source": [
    "data.head()"
   ]
  },
  {
   "cell_type": "markdown",
   "id": "9f1dce18",
   "metadata": {},
   "source": [
    "## Modelling"
   ]
  },
  {
   "cell_type": "markdown",
   "id": "05c998f8",
   "metadata": {},
   "source": [
    "Before building our clustering algorithm, we will scale the numerical variables"
   ]
  },
  {
   "cell_type": "code",
   "execution_count": 48,
   "id": "59592cc3",
   "metadata": {},
   "outputs": [],
   "source": [
    "numerical = data.drop(columns=[\"Education\", \"Marital_Status\"]).values\n",
    "scaler = StandardScaler()\n",
    "numerical_scaled = scaler.fit_transform(numerical)"
   ]
  },
  {
   "cell_type": "markdown",
   "id": "bc5d5b01",
   "metadata": {},
   "source": [
    "We will also apply one hot encoding to the categorical variables"
   ]
  },
  {
   "cell_type": "code",
   "execution_count": 49,
   "id": "2c8dad02",
   "metadata": {},
   "outputs": [],
   "source": [
    "categorical = data[[\"Education\", \"Marital_Status\"]]\n",
    "encoder = OneHotEncoder(drop=\"first\", sparse_output=False)\n",
    "encoded_cat = encoder.fit_transform(data[[\"Education\", \"Marital_Status\"]])\n",
    "\n",
    "data[\"Education_Enc\"] = encoded_cat[:, 0]\n",
    "data[\"Marital_Status_Enc\"] = encoded_cat[:, 1]\n",
    "\n",
    "X = np.hstack((encoded_cat, numerical_scaled))"
   ]
  },
  {
   "cell_type": "markdown",
   "id": "2b81a787",
   "metadata": {},
   "source": [
    "To avoid any issue regarding multicolinearity and high dimensionality when running our clustering algorithm we will apply PCA."
   ]
  },
  {
   "cell_type": "code",
   "execution_count": 50,
   "id": "08fe2e67",
   "metadata": {},
   "outputs": [
    {
     "data": {
      "image/png": "[encoded data removed]",
      "text/plain": [
       "<Figure size 800x400 with 1 Axes>"
      ]
     },
     "metadata": {},
     "output_type": "display_data"
    }
   ],
   "source": [
    "# Fit PCA\n",
    "pca = PCA()\n",
    "X_pca = pca.fit_transform(X)\n",
    "\n",
    "# Plot explained variance\n",
    "plt.figure(figsize=(8, 4))\n",
    "plt.plot(np.cumsum(pca.explained_variance_ratio_), marker=\"o\", linestyle=\"--\")\n",
    "plt.xlabel(\"Number of Components\")\n",
    "plt.ylabel(\"Cumulative Explained Variance\")\n",
    "plt.title(\"Explained Variance by PCA Components\")\n",
    "plt.grid(True)\n",
    "plt.axhline(y=0.90, color=\"r\", linestyle=\"--\", label=\"90% Variance\")\n",
    "plt.legend()\n",
    "plt.show()\n"
   ]
  },
  {
   "cell_type": "markdown",
   "id": "628aade8",
   "metadata": {},
   "source": [
    "With 6 components, 90% of the variance is explained, leading us to proceed with this number for the rest of the analysis"
   ]
  },
  {
   "cell_type": "code",
   "execution_count": 51,
   "id": "e3953519",
   "metadata": {},
   "outputs": [],
   "source": [
    "pca_final = PCA(n_components = 6)\n",
    "X_reduced = pca_final.fit_transform(X)"
   ]
  },
  {
   "cell_type": "markdown",
   "id": "475fb94e",
   "metadata": {},
   "source": [
    "### K-Means Clustering"
   ]
  },
  {
   "cell_type": "markdown",
   "id": "23fa4d99",
   "metadata": {},
   "source": [
    "Now we are able to apply our K-Means clustering algorithm. We will begin by finding the optimal number of clusters based on the elbow method and the silhouette scores"
   ]
  },
  {
   "cell_type": "code",
   "execution_count": 52,
   "id": "b1cbca58",
   "metadata": {},
   "outputs": [
    {
     "data": {
      "image/png": "[encoded data removed]",
      "text/plain": [
       "<Figure size 1000x400 with 2 Axes>"
      ]
     },
     "metadata": {},
     "output_type": "display_data"
    }
   ],
   "source": [
    "#X_reduced = X_scaled\n",
    "\n",
    "# Test a range of k values\n",
    "k_range = range(2, 11)\n",
    "inertia = []\n",
    "silhouette = []\n",
    "\n",
    "for k in k_range:\n",
    "    kmeans = KMeans(n_clusters=k, random_state=23)\n",
    "    kmeans.fit(X_reduced)\n",
    "    inertia.append(kmeans.inertia_)\n",
    "    silhouette.append(silhouette_score(X_reduced, kmeans.labels_))\n",
    "\n",
    "# Plot elbow method\n",
    "plt.figure(figsize=(10, 4))\n",
    "\n",
    "plt.subplot(1, 2, 1)\n",
    "plt.plot(k_range, inertia, marker='o', linestyle='--')\n",
    "plt.xlabel('Number of Clusters (k)')\n",
    "plt.ylabel('Inertia (Within-Cluster Sum of Squares)')\n",
    "plt.title('Elbow Method')\n",
    "\n",
    "# Plot silhouette scores\n",
    "plt.subplot(1, 2, 2)\n",
    "plt.plot(k_range, silhouette, marker='o', linestyle='--', color='green')\n",
    "plt.xlabel('Number of Clusters (k)')\n",
    "plt.ylabel('Silhouette Score')\n",
    "plt.title('Silhouette Score vs k')\n",
    "\n",
    "plt.tight_layout()\n",
    "plt.show()\n"
   ]
  },
  {
   "cell_type": "markdown",
   "id": "30224812",
   "metadata": {},
   "source": [
    "The Elbow Method suggested 4 clusters as a good balance, while the Silhouette Score was highest between 4 to 5 clusters. However, 4 clusters were chosen because they balance cluster cohesion and business needs.\n",
    "\n",
    "Now, we will train a K-Means algorithm that allows us to segment our client database based on the different features available"
   ]
  },
  {
   "cell_type": "code",
   "execution_count": 53,
   "id": "599d3121",
   "metadata": {},
   "outputs": [
    {
     "name": "stdout",
     "output_type": "stream",
     "text": [
      "Silhouette Score: 0.259\n"
     ]
    }
   ],
   "source": [
    "kmeans = KMeans(n_clusters=4, random_state=23)\n",
    "cluster_labels = kmeans.fit_predict(X_reduced)\n",
    "\n",
    "score = silhouette_score(X_reduced, cluster_labels)\n",
    "print(f\"Silhouette Score: {score:.3f}\")\n",
    "data[\"Cluster\"] = cluster_labels\n"
   ]
  },
  {
   "cell_type": "markdown",
   "id": "d499bbb7",
   "metadata": {},
   "source": [
    "After training the model we will profile each of the clusters to obtain key business insights around them"
   ]
  },
  {
   "cell_type": "code",
   "execution_count": 54,
   "id": "31053ddc",
   "metadata": {},
   "outputs": [
    {
     "data": {
      "text/html": [
       "<div>\n",
       "<style scoped>\n",
       "    .dataframe tbody tr th:only-of-type {\n",
       "        vertical-align: middle;\n",
       "    }\n",
       "\n",
       "    .dataframe tbody tr th {\n",
       "        vertical-align: top;\n",
       "    }\n",
       "\n",
       "    .dataframe thead th {\n",
       "        text-align: right;\n",
       "    }\n",
       "</style>\n",
       "<table border=\"1\" class=\"dataframe\">\n",
       "  <thead>\n",
       "    <tr style=\"text-align: right;\">\n",
       "      <th>Cluster</th>\n",
       "      <th>0</th>\n",
       "      <th>1</th>\n",
       "      <th>2</th>\n",
       "      <th>3</th>\n",
       "    </tr>\n",
       "  </thead>\n",
       "  <tbody>\n",
       "    <tr>\n",
       "      <th>Income</th>\n",
       "      <td>77547.13</td>\n",
       "      <td>30309.88</td>\n",
       "      <td>58966.79</td>\n",
       "      <td>42452.15</td>\n",
       "    </tr>\n",
       "    <tr>\n",
       "      <th>Kidhome</th>\n",
       "      <td>0.02</td>\n",
       "      <td>0.76</td>\n",
       "      <td>0.07</td>\n",
       "      <td>1.05</td>\n",
       "    </tr>\n",
       "    <tr>\n",
       "      <th>Teenhome</th>\n",
       "      <td>0.03</td>\n",
       "      <td>0.04</td>\n",
       "      <td>0.95</td>\n",
       "      <td>1.04</td>\n",
       "    </tr>\n",
       "    <tr>\n",
       "      <th>Recency</th>\n",
       "      <td>49.48</td>\n",
       "      <td>48.86</td>\n",
       "      <td>48.35</td>\n",
       "      <td>49.94</td>\n",
       "    </tr>\n",
       "    <tr>\n",
       "      <th>NumWebVisitsMonth</th>\n",
       "      <td>2.57</td>\n",
       "      <td>6.87</td>\n",
       "      <td>5.26</td>\n",
       "      <td>6.37</td>\n",
       "    </tr>\n",
       "    <tr>\n",
       "      <th>Customer_For</th>\n",
       "      <td>4363.76</td>\n",
       "      <td>4376.31</td>\n",
       "      <td>4414.88</td>\n",
       "      <td>4347.44</td>\n",
       "    </tr>\n",
       "    <tr>\n",
       "      <th>Customer_Age</th>\n",
       "      <td>56.27</td>\n",
       "      <td>47.55</td>\n",
       "      <td>61.73</td>\n",
       "      <td>59.39</td>\n",
       "    </tr>\n",
       "    <tr>\n",
       "      <th>Kids</th>\n",
       "      <td>0.05</td>\n",
       "      <td>0.80</td>\n",
       "      <td>1.02</td>\n",
       "      <td>2.09</td>\n",
       "    </tr>\n",
       "    <tr>\n",
       "      <th>Total_Purchased</th>\n",
       "      <td>1382.93</td>\n",
       "      <td>123.22</td>\n",
       "      <td>751.74</td>\n",
       "      <td>178.76</td>\n",
       "    </tr>\n",
       "    <tr>\n",
       "      <th>Num_Purchases</th>\n",
       "      <td>20.09</td>\n",
       "      <td>8.26</td>\n",
       "      <td>19.78</td>\n",
       "      <td>10.77</td>\n",
       "    </tr>\n",
       "    <tr>\n",
       "      <th>Campaigns_Accepted</th>\n",
       "      <td>0.87</td>\n",
       "      <td>0.09</td>\n",
       "      <td>0.22</td>\n",
       "      <td>0.12</td>\n",
       "    </tr>\n",
       "    <tr>\n",
       "      <th>Household_Size</th>\n",
       "      <td>0.41</td>\n",
       "      <td>1.14</td>\n",
       "      <td>1.36</td>\n",
       "      <td>2.47</td>\n",
       "    </tr>\n",
       "    <tr>\n",
       "      <th>Education_Enc</th>\n",
       "      <td>1.00</td>\n",
       "      <td>0.92</td>\n",
       "      <td>1.00</td>\n",
       "      <td>0.99</td>\n",
       "    </tr>\n",
       "    <tr>\n",
       "      <th>Marital_Status_Enc</th>\n",
       "      <td>0.36</td>\n",
       "      <td>0.34</td>\n",
       "      <td>0.34</td>\n",
       "      <td>0.38</td>\n",
       "    </tr>\n",
       "  </tbody>\n",
       "</table>\n",
       "</div>"
      ],
      "text/plain": [
       "Cluster                    0         1         2         3\n",
       "Income              77547.13  30309.88  58966.79  42452.15\n",
       "Kidhome                 0.02      0.76      0.07      1.05\n",
       "Teenhome                0.03      0.04      0.95      1.04\n",
       "Recency                49.48     48.86     48.35     49.94\n",
       "NumWebVisitsMonth       2.57      6.87      5.26      6.37\n",
       "Customer_For         4363.76   4376.31   4414.88   4347.44\n",
       "Customer_Age           56.27     47.55     61.73     59.39\n",
       "Kids                    0.05      0.80      1.02      2.09\n",
       "Total_Purchased      1382.93    123.22    751.74    178.76\n",
       "Num_Purchases          20.09      8.26     19.78     10.77\n",
       "Campaigns_Accepted      0.87      0.09      0.22      0.12\n",
       "Household_Size          0.41      1.14      1.36      2.47\n",
       "Education_Enc           1.00      0.92      1.00      0.99\n",
       "Marital_Status_Enc      0.36      0.34      0.34      0.38"
      ]
     },
     "execution_count": 54,
     "metadata": {},
     "output_type": "execute_result"
    }
   ],
   "source": [
    "features_to_profile = data.drop(columns=[\"Education\", \"Marital_Status\"])\n",
    "\n",
    "cluster_profile = features_to_profile.groupby(\"Cluster\").mean().round(2)\n",
    "cluster_profile.T"
   ]
  },
  {
   "cell_type": "markdown",
   "id": "1500cf6e",
   "metadata": {},
   "source": [
    "We can also obtain the number of customers in each of the clusters"
   ]
  },
  {
   "cell_type": "code",
   "execution_count": 55,
   "id": "2e690367",
   "metadata": {},
   "outputs": [
    {
     "data": {
      "text/plain": [
       "Cluster\n",
       "2    665\n",
       "1    615\n",
       "0    497\n",
       "3    431\n",
       "Name: count, dtype: int64"
      ]
     },
     "execution_count": 55,
     "metadata": {},
     "output_type": "execute_result"
    }
   ],
   "source": [
    "data[\"Cluster\"].value_counts()"
   ]
  },
  {
   "cell_type": "markdown",
   "id": "cd55fa91",
   "metadata": {},
   "source": [
    "We can interpret the clusters obtained as follows:\n",
    "\n",
    "#### Cluster 0: Affluent Seniors, Loyal Buyers\n",
    "- **Income**: The highest income level (~$77.5K)\n",
    "- **Demographics**: Older customers (56 years), almost no children\n",
    "- **Online Behavior**: Very low activity on web (2.6 visits per month)\n",
    "- **Purchase Pattern**: The highest total purchases (1,382) and they respond most to campaigns (0.87)\n",
    "- **Key Insight**: These are very valuable customers for long-term who prefer offline or direct offers\n",
    "\n",
    "#### Cluster 1: Young Families, Low Income, High Web Use\n",
    "- **Income**: Low income (~$30.3K)\n",
    "- **Demographics**: Younger customers (47 years), high number of children at home (0.76), household size around 1.14\n",
    "- **Online Behavior**: Heavy activity on web (6.87 visits per month)\n",
    "- **Purchase Pattern**: Low spending and low acceptance of campaigns\n",
    "- **Key Insight**: These customers are price-sensitive or they use web for research but don't buy easily\n",
    "\n",
    "#### Cluster 2: Older Families, Moderate Income, High Spending\n",
    "- **Income**: Moderate income (~$59K)\n",
    "- **Demographics**: The oldest group (61.7 years), many teenagers in family (0.95)\n",
    "- **Online Behavior**: Low visits to web\n",
    "- **Purchase Pattern**: High total purchases (751), moderate response to campaigns (0.22)\n",
    "- **Key Insight**: These customers are loyal but they don't use digital channels much; traditional marketing might work better\n",
    "\n",
    "#### Cluster 3: Young Large Households, Low-Mid Income, Low Spend\n",
    "- **Income**: Low to middle income (~$42.4K)\n",
    "- **Demographics**: Age 59 years, the highest number of children (2.09), largest household size (2.47)\n",
    "- **Online Behavior**: Active on web (6.4 visits per month)\n",
    "- **Purchase Pattern**: Low purchases, they don't respond to campaigns\n",
    "- **Key Insight**: Large families that probably shop for family needs but don't spend much. They might be budget shoppers"
   ]
  },
  {
   "cell_type": "markdown",
   "id": "96c0ecf5",
   "metadata": {},
   "source": [
    "### DBSCAN"
   ]
  },
  {
   "cell_type": "markdown",
   "id": "7f9030dd",
   "metadata": {},
   "source": [
    "Now we will try fitting a DBSCAN model. The objective of this is to have two different models that allow us to compare the results and then pick the one that has the better performance metrics and that gives the bettter fit based on the business needs"
   ]
  },
  {
   "cell_type": "code",
   "execution_count": 56,
   "id": "72a8abf5",
   "metadata": {},
   "outputs": [
    {
     "name": "stdout",
     "output_type": "stream",
     "text": [
      "Estimated number of clusters: 2\n",
      "Silhouette Score: 0.191\n"
     ]
    }
   ],
   "source": [
    "dbscan = DBSCAN(eps=1.5, min_samples=20)\n",
    "dbscan_labels = dbscan.fit_predict(X_reduced)\n",
    "\n",
    "data[\"DBSCAN_Cluster\"] = dbscan_labels\n",
    "\n",
    "# Number of clusters (excluding noise, labeled -1)\n",
    "n_clusters = len(set(dbscan_labels)) - (1 if -1 in dbscan_labels else 0)\n",
    "print(f\"Estimated number of clusters: {n_clusters}\")\n",
    "\n",
    "score = silhouette_score(X_reduced, dbscan_labels)\n",
    "print(f\"Silhouette Score: {score:.3f}\")\n"
   ]
  },
  {
   "cell_type": "markdown",
   "id": "24ee313d",
   "metadata": {},
   "source": [
    "After training the model we will profile each of the clusters to obtain key business insights around them"
   ]
  },
  {
   "cell_type": "code",
   "execution_count": 57,
   "id": "ac35d0ac",
   "metadata": {},
   "outputs": [
    {
     "data": {
      "text/html": [
       "<div>\n",
       "<style scoped>\n",
       "    .dataframe tbody tr th:only-of-type {\n",
       "        vertical-align: middle;\n",
       "    }\n",
       "\n",
       "    .dataframe tbody tr th {\n",
       "        vertical-align: top;\n",
       "    }\n",
       "\n",
       "    .dataframe thead th {\n",
       "        text-align: right;\n",
       "    }\n",
       "</style>\n",
       "<table border=\"1\" class=\"dataframe\">\n",
       "  <thead>\n",
       "    <tr style=\"text-align: right;\">\n",
       "      <th>DBSCAN_Cluster</th>\n",
       "      <th>0</th>\n",
       "      <th>1</th>\n",
       "    </tr>\n",
       "  </thead>\n",
       "  <tbody>\n",
       "    <tr>\n",
       "      <th>Income</th>\n",
       "      <td>43992.55</td>\n",
       "      <td>75240.94</td>\n",
       "    </tr>\n",
       "    <tr>\n",
       "      <th>Kidhome</th>\n",
       "      <td>0.56</td>\n",
       "      <td>0.00</td>\n",
       "    </tr>\n",
       "    <tr>\n",
       "      <th>Teenhome</th>\n",
       "      <td>0.63</td>\n",
       "      <td>0.00</td>\n",
       "    </tr>\n",
       "    <tr>\n",
       "      <th>Recency</th>\n",
       "      <td>48.30</td>\n",
       "      <td>50.12</td>\n",
       "    </tr>\n",
       "    <tr>\n",
       "      <th>NumWebVisitsMonth</th>\n",
       "      <td>6.05</td>\n",
       "      <td>2.42</td>\n",
       "    </tr>\n",
       "    <tr>\n",
       "      <th>Customer_For</th>\n",
       "      <td>4385.84</td>\n",
       "      <td>4367.59</td>\n",
       "    </tr>\n",
       "    <tr>\n",
       "      <th>Customer_Age</th>\n",
       "      <td>55.52</td>\n",
       "      <td>57.49</td>\n",
       "    </tr>\n",
       "    <tr>\n",
       "      <th>Kids</th>\n",
       "      <td>1.18</td>\n",
       "      <td>0.00</td>\n",
       "    </tr>\n",
       "    <tr>\n",
       "      <th>Total_Purchased</th>\n",
       "      <td>355.03</td>\n",
       "      <td>1303.41</td>\n",
       "    </tr>\n",
       "    <tr>\n",
       "      <th>Num_Purchases</th>\n",
       "      <td>13.03</td>\n",
       "      <td>19.74</td>\n",
       "    </tr>\n",
       "    <tr>\n",
       "      <th>Campaigns_Accepted</th>\n",
       "      <td>0.10</td>\n",
       "      <td>0.32</td>\n",
       "    </tr>\n",
       "    <tr>\n",
       "      <th>Household_Size</th>\n",
       "      <td>1.52</td>\n",
       "      <td>0.40</td>\n",
       "    </tr>\n",
       "    <tr>\n",
       "      <th>Education_Enc</th>\n",
       "      <td>0.97</td>\n",
       "      <td>1.00</td>\n",
       "    </tr>\n",
       "    <tr>\n",
       "      <th>Marital_Status_Enc</th>\n",
       "      <td>0.34</td>\n",
       "      <td>0.40</td>\n",
       "    </tr>\n",
       "  </tbody>\n",
       "</table>\n",
       "</div>"
      ],
      "text/plain": [
       "DBSCAN_Cluster             0         1\n",
       "Income              43992.55  75240.94\n",
       "Kidhome                 0.56      0.00\n",
       "Teenhome                0.63      0.00\n",
       "Recency                48.30     50.12\n",
       "NumWebVisitsMonth       6.05      2.42\n",
       "Customer_For         4385.84   4367.59\n",
       "Customer_Age           55.52     57.49\n",
       "Kids                    1.18      0.00\n",
       "Total_Purchased       355.03   1303.41\n",
       "Num_Purchases          13.03     19.74\n",
       "Campaigns_Accepted      0.10      0.32\n",
       "Household_Size          1.52      0.40\n",
       "Education_Enc           0.97      1.00\n",
       "Marital_Status_Enc      0.34      0.40"
      ]
     },
     "execution_count": 57,
     "metadata": {},
     "output_type": "execute_result"
    }
   ],
   "source": [
    "valid_clusters = data[data[\"DBSCAN_Cluster\"] != -1]\n",
    "valid_clusters = valid_clusters.drop(columns=[\"Education\", \"Marital_Status\", \"Cluster\"])\n",
    "\n",
    "dbscan_profile = valid_clusters.groupby(\"DBSCAN_Cluster\").mean().round(2)\n",
    "dbscan_profile.T\n"
   ]
  },
  {
   "cell_type": "markdown",
   "id": "45817fd1",
   "metadata": {},
   "source": [
    "We can also obtain the number of customers in each of the clusters"
   ]
  },
  {
   "cell_type": "code",
   "execution_count": 58,
   "id": "65108047",
   "metadata": {},
   "outputs": [
    {
     "data": {
      "text/plain": [
       "DBSCAN_Cluster\n",
       " 0    1500\n",
       " 1     381\n",
       "-1     327\n",
       "Name: count, dtype: int64"
      ]
     },
     "execution_count": 58,
     "metadata": {},
     "output_type": "execute_result"
    }
   ],
   "source": [
    "data[\"DBSCAN_Cluster\"].value_counts()\n"
   ]
  },
  {
   "cell_type": "markdown",
   "id": "2f3d0231",
   "metadata": {},
   "source": [
    "We can interpret the clusters obtained as follows:\n",
    "\n",
    "#### Cluster 0: Larger Families, Low-Mid Income, Digital Users\n",
    "- **Income**: Around $44K\n",
    "- **Demographics**: Many children (1.18), larger households (1.52)\n",
    "- **Online Behavior**: High activity on web (6.05 visits per month)\n",
    "- **Purchase Pattern**: Lower total spending (355) and very low response to campaigns (0.10)\n",
    "- **Key Insight**: These are budget-conscious families who browse a lot on web but they spend modestly and rarely respond to marketing offers\n",
    "\n",
    "#### Cluster 1: Affluent Singles/Couples, High Loyalty\n",
    "- **Income**: Around $75K\n",
    "- **Demographics**: No children (0.00), small households (0.40)\n",
    "- **Online Behavior**: Low activity on web (2.42 visits per month)\n",
    "- **Purchase Pattern**: Very high total purchases (1,303) and good campaign responsiveness (0.32)\n",
    "- **Key Insight**: High-value customers, possibly older people who prefer offline channels and are highly engaged buyers"
   ]
  },
  {
   "cell_type": "markdown",
   "id": "40e65579",
   "metadata": {},
   "source": [
    "## Model selection and Conclusions"
   ]
  },
  {
   "cell_type": "markdown",
   "id": "8d6efe87",
   "metadata": {},
   "source": [
    "We tested two different methods to group our customers: K-Means and DBSCAN. Both methods help us understand our customers better so we can create targeted marketing strategies.\n",
    "\n",
    "**K-Means Results:** K-Means divided customers into four groups. This gave us detailed information about different customer types, such as wealthy loyal customers, young people who shop online, and large families who don't spend much. This method achieved a silhouette score of 0.23, indicating the groups were more separated and balanced than those produced by DBSCAN. With four groups, we can create very specific marketing campaigns for each type of customer.\n",
    "\n",
    "**DBSCAN Results:** DBSCAN only found two customer groups, with a slightly lower score of 0.19. However, it showed a very clear difference between two main customer types:\n",
    "\n",
    "* High-value customers: earn about $75,000 per year and spend about $1,300\n",
    "* Budget-conscious families: earn about $44,000 per year and spend about $355\n",
    "\n",
    "This simple two-group structure makes it easier to make business decisions. Companies can focus on offering premium products to high-value customers, while creating affordable, online-focused strategies for budget-conscious families. The two groups also behave differently online, which helps with choosing the right marketing channels.\n",
    "\n",
    "**Final Decision:** Even though DBSCAN provides clearer and more focused insights, we chose K-Means as our final method. We made this choice because it had a better silhouette score (0.23), provided more detailed customer groups, and gave us better information for creating specific customer profiles and marketing strategies."
   ]
  }
 ],
 "metadata": {
  "kernelspec": {
   "display_name": "base",
   "language": "python",
   "name": "python3"
  },
  "language_info": {
   "codemirror_mode": {
    "name": "ipython",
    "version": 3
   },
   "file_extension": ".py",
   "mimetype": "text/x-python",
   "name": "python",
   "nbconvert_exporter": "python",
   "pygments_lexer": "ipython3",
   "version": "3.12.4"
  }
 },
 "nbformat": 4,
 "nbformat_minor": 5
}
